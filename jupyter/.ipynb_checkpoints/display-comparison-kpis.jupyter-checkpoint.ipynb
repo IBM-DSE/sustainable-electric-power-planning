{
 "cells": [
  {
   "cell_type": "markdown",
   "metadata": {
    "deletable": true,
    "editable": true
   },
   "source": [
    "## Comparing solutions to Deterministic, Robust and Stochastic formulations of Unit Commitment (UC) \n",
    "\n",
    "This notebook implements some charts that compare the different solution obtained from the three different formulations, over a set of 7 daily instances of UC.\n",
    "\n",
    "- [Comparing production costs between Robust and Stochastic formulations](#sav)\n",
    "- [Comparing renewable energy utilization between Robust and Stochastic formulations](#ren)\n",
    "- [Heatmap comparing solution performance of Robust, Stochastic and Deterministic formulations](#heat)"
   ]
  },
  {
   "cell_type": "markdown",
   "metadata": {
    "deletable": true,
    "editable": true
   },
   "source": [
    "### Comparing production costs between Robust and Stochastic formulations\n",
    "\n",
    "<a id=sav ></a>\n",
    "\n",
    "The following chart reports the daily cost savings (in Euros) that can be obtained by adopting the robust optimization formulation in place of the stochastic formulation. "
   ]
  },
  {
   "cell_type": "code",
   "execution_count": null,
   "metadata": {
    "collapsed": false,
    "deletable": true,
    "editable": true
   },
   "outputs": [],
   "source": [
    "%matplotlib inline\n",
    "import os, pandas as pd, numpy as np\n",
    "\n",
    "from IPython.display import display\n",
    "import matplotlib.pyplot as plt\n",
    "import matplotlib.colors as mcolors\n",
    "import matplotlib.cm as cm\n",
    "\n",
    "\n",
    "df_dashboard = pd.read_csv(os.environ['DSX_PROJECT_DIR']+'/datasets/df_dashboard.csv')\n",
    "\n",
    "### comparing daily costs between the solutions to robust and stochastic formulations\n",
    "### the comparison returns the pontetial daily cost saving (it could be negative) if the robust formulation is adopted\n",
    "do_cost_comp = df_dashboard.copy()[['day', 'model', 'cost']]\n",
    "do_cost_comp = do_cost_comp.loc[do_cost_comp['model'] != 'D']\n",
    "do_cost_comp.drop_duplicates(inplace=True)\n",
    "do_cost_comp_R = do_cost_comp.copy().loc[do_cost_comp['model'] == 'R']\n",
    "do_cost_comp_R.rename(columns={'cost': 'cost_R'}, inplace=True)\n",
    "do_cost_comp_R.drop('model', axis=1, inplace=True)\n",
    "do_cost_comp = do_cost_comp.loc[do_cost_comp['model'] == 'S']\n",
    "do_cost_comp = do_cost_comp.merge(do_cost_comp_R, on='day', how='inner')\n",
    "do_cost_comp_X = do_cost_comp.copy()\n",
    "do_cost_comp['saving'] = do_cost_comp['cost'] - do_cost_comp['cost_R']\n",
    "\n",
    "do_cost_comp.to_csv(os.environ['DSX_PROJECT_DIR']+'/datasets/df_cost_comp.csv', index=False)\n",
    "\n",
    "relative_avg_saving = np.mean(do_cost_comp['saving'] / do_cost_comp['cost'])\n",
    "absolute_avg_saving = do_cost_comp['saving'].mean()\n",
    "\n",
    "do_cost_comp = do_cost_comp[['day', 'saving']]\n",
    "do_cost_comp.set_index('day', inplace=True)\n",
    "\n",
    "### potentail daily savings are displayed with bar chart\n",
    "fig = plt.figure(figsize=(7, 7), dpi= 100)\n",
    "cmap = mcolors.LinearSegmentedColormap.from_list(\"\", [\"AquaMarine\", \"DeepSkyBlue\", \"Navy\"])\n",
    "plt.bar(do_cost_comp.index, do_cost_comp['saving'], color=cmap((do_cost_comp['saving'].values - do_cost_comp['saving'].values.min()) / do_cost_comp['saving'].values.max()))\n",
    "plt.xticks(do_cost_comp.index, do_cost_comp.index.tolist())\n",
    "plt.yticks([])\n",
    "plt.xlabel('Days')\n",
    "plt.title('Daily Cost Savings (Euros)')\n",
    "normalize = mcolors.Normalize(vmin=do_cost_comp['saving'].values.min(), vmax=do_cost_comp['saving'].values.max())\n",
    "scalarmappaple = cm.ScalarMappable(norm=normalize, cmap=cmap)\n",
    "scalarmappaple.set_array(do_cost_comp['saving'])\n",
    "legend_ticks = [do_cost_comp['saving'].values.min(), do_cost_comp['saving'].values.mean(), do_cost_comp['saving'].values.max()]\n",
    "cbar = plt.colorbar(scalarmappaple, ticks=legend_ticks)\n",
    "cbar.ax.set_yticklabels([\"{:.1f}K\".format(float(tick) / 1000) for tick in legend_ticks])\n",
    "\n",
    "print(\"Absolute Average Daily Cost Saving: {:.1f}K Euros\".format(absolute_avg_saving / 1000))\n",
    "print(\"Relative Average Daily Cost Saving: {:.1f}%\".format(relative_avg_saving * 100))"
   ]
  },
  {
   "cell_type": "markdown",
   "metadata": {
    "deletable": true,
    "editable": true
   },
   "source": [
    "### Comparing renewable energy utilization between Robust and Stochastic formulations\n",
    "\n",
    "<a id=ren ></a>\n",
    "\n",
    "The following chart reports the daily relative gap of the renewable utilization between the robust and the stochastic formulations."
   ]
  },
  {
   "cell_type": "code",
   "execution_count": null,
   "metadata": {
    "collapsed": false,
    "deletable": true,
    "editable": true
   },
   "outputs": [],
   "source": [
    "from sklearn import preprocessing\n",
    "\n",
    "### comparing renewable utilization rate between the solutions to robust and stochastic formulations\n",
    "### the comparison is based on the ratio between renewable and total energy production (these values are normalized in order to get a relative gap)\n",
    "### the potential daily gain in renewable utilization (it could be negative) is returned if the robust formulation is adopted\n",
    "do_ren_comp = df_dashboard.copy()[['day', 'model', 'thermal_prod', 'renewable_prod']]\n",
    "do_ren_comp = do_ren_comp.loc[do_ren_comp['model'] != 'D']\n",
    "do_ren_comp = do_ren_comp.groupby(['day', 'model']).sum()\n",
    "do_ren_comp['ren_rate'] = do_ren_comp['renewable_prod'] / (do_ren_comp['thermal_prod'] + do_ren_comp['renewable_prod'])\n",
    "\n",
    "x = do_ren_comp[['ren_rate']].values.astype(float)\n",
    "min_max_scaler = preprocessing.MinMaxScaler()\n",
    "x_scaled = min_max_scaler.fit_transform(x)\n",
    "do_ren_comp['ren_rate'] = x_scaled\n",
    "\n",
    "ref_df = do_ren_comp.copy()\n",
    "ref_df.reset_index(inplace=True)\n",
    "ref_df = ref_df[['day', 'model', 'ren_rate']]\n",
    "ref_df = ref_df.loc[ref_df['model'] == 'R']\n",
    "ref_df.rename(columns={'ren_rate': 'ref'}, inplace=True)\n",
    "ref_df.drop('model', axis=1, inplace=True)\n",
    "do_ren_comp.reset_index(inplace=True)\n",
    "do_ren_comp = do_ren_comp.merge(ref_df, on='day', how='inner')\n",
    "do_ren_comp = do_ren_comp.loc[do_ren_comp['model'] == 'S']\n",
    "do_ren_comp['ren_rate'] = do_ren_comp.apply(lambda x: x.ref - x.ren_rate, axis=1)\n",
    "do_ren_comp = do_ren_comp[['day', 'ren_rate']]\n",
    "do_ren_comp.set_index('day', inplace=True)\n",
    "\n",
    "do_ren_comp.to_csv(os.environ['DSX_PROJECT_DIR']+'/datasets/df_ren_comp.csv')\n",
    "\n",
    "avg_ren_util_gain = do_ren_comp['ren_rate'].mean()\n",
    "\n",
    "### potential daily gains in renewable utilization are displayed with a line chart\n",
    "fig, ax = plt.subplots(figsize=(7, 7), dpi= 100)\n",
    "ax.plot(do_ren_comp.index, do_ren_comp['ren_rate'], color='ForestGreen')\n",
    "plt.xticks(do_ren_comp.index, do_ren_comp.index.tolist())\n",
    "max_y_tick = 1 + int(np.ceil(do_ren_comp['ren_rate'].values.max() * 100))\n",
    "plt.yticks([float(x) / 100 for x in range(0, max_y_tick)], [\"{}%\".format(tick) if tick != 0 else 0 for tick in range(0, max_y_tick)])\n",
    "plt.fill_between(do_ren_comp.index, do_ren_comp['ren_rate'], alpha=0.4, color='ForestGreen')\n",
    "plt.xlabel('Days')\n",
    "plt.title('Daily Renewable Utilization Gain')\n",
    "\n",
    "print(\"Average Daily Renewable Utilization Gain: {:.1f}%\".format(avg_ren_util_gain * 100))"
   ]
  },
  {
   "cell_type": "markdown",
   "metadata": {
    "deletable": true,
    "editable": true
   },
   "source": [
    "### Heatmap comparing solution performance of Robust, Stochastic and Deterministic formulations\n",
    "\n",
    "<a id=heat ></a>\n",
    "\n",
    "The heatmap shows how three models preform in each day, according to the following criteria: the comparison is based on an ex-post analysis that captures the performance of the optimal plan recommended by each model at the beginning of a day, against the actual energy demand registered at the end of the same day.  \n",
    "The color scale from blue to red illustrates the proximity of planned energy production and system reserve compared to the actual demand. In particular, purple/blue means that the total planned power is very close to the actual demand load registered, and lower and upper reserve levels are suitably centered respect to it. Red/dark red means that the total planned power and related reserve levels turn out to be unbalanced respect to the actual load registered: this requires suitable tactical adjustments to mitigate the deviation from the plan, which lead to higher operational costs at decreased sustainability. From the chart you can see that, for each day of the testbed, the robust formulation provided the best energy production plan against the actual demand, whereas the deterministic formulation’s solution led to the highest deviation."
   ]
  },
  {
   "cell_type": "code",
   "execution_count": null,
   "metadata": {
    "collapsed": false,
    "deletable": true,
    "editable": true
   },
   "outputs": [],
   "source": [
    "### we use a heatmap to compare the solution quality of the three formulation\n",
    "### the kpi used measures the proximity of the recommended plan respect to the actual energy demand registered for each day (the higher value, the higher model performance)\n",
    "### kpi values have been normalized to achieve the comparison \n",
    "df_actual_demand = pd.read_csv(os.environ['DSX_PROJECT_DIR']+'/datasets/actual_demand.csv')\n",
    "df_dashboard = df_dashboard.merge(df_actual_demand, on='period', how='inner')\n",
    "df_dashboard['kpi'] = df_dashboard.apply(lambda x: 0.3 * abs(x.PROD_TOT - x.actual_demand) + \\\n",
    "                                         0.7 * (abs(2 * x.PROD_TOT - x.RES_DOWN_TOT - x.actual_demand) if 2 * x.PROD_TOT - x.RES_DOWN_TOT > x.actual_demand \\\n",
    "                                                    else (abs(2 * x.PROD_TOT + x.RES_UP_TOT - x.actual_demand) if 2 * x.PROD_TOT + x.RES_UP_TOT < x.actual_demand \\\n",
    "                                                          else 0)), axis=1)\n",
    "\n",
    "df_dashboard = df_dashboard[['model', 'day', 'period', 'Date', 'Hour', 'kpi', 'actual_demand']]\n",
    "df_kpi = df_dashboard[['model', 'day', 'kpi']].copy()\n",
    "df_kpi = df_kpi.groupby(['model', 'day']).mean()\n",
    "df_kpi.reset_index(inplace=True)\n",
    "\n",
    "x = df_kpi[['kpi']].values.astype(float)\n",
    "min_max_scaler = preprocessing.MinMaxScaler()\n",
    "x_scaled = min_max_scaler.fit_transform(x)\n",
    "df_kpi['kpi'] = x_scaled\n",
    "df_kpi['kpi'] = 1 - df_kpi['kpi']\n",
    "\n",
    "df_kpi.to_csv(os.environ['DSX_PROJECT_DIR']+'/datasets/df_heatmap_comp.csv', index=False)"
   ]
  },
  {
   "cell_type": "code",
   "execution_count": null,
   "metadata": {
    "collapsed": false,
    "deletable": true,
    "editable": true
   },
   "outputs": [],
   "source": [
    "### the implementation of the heatmap is based on this resource: https://matplotlib.org/gallery/images_contours_and_fields/image_annotated_heatmap.html\n",
    "from mpl_toolkits.axes_grid1 import make_axes_locatable\n",
    "\n",
    "def heatmap(data, row_labels, col_labels, ax=None,\n",
    "            cbar_kw={}, cbarlabel=\"\", **kwargs):\n",
    "    \"\"\"\n",
    "    Create a heatmap from a numpy array and two lists of labels.\n",
    "\n",
    "    Arguments:\n",
    "        data       : A 2D numpy array of shape (N,M)\n",
    "        row_labels : A list or array of length N with the labels\n",
    "                     for the rows\n",
    "        col_labels : A list or array of length M with the labels\n",
    "                     for the columns\n",
    "    Optional arguments:\n",
    "        ax         : A matplotlib.axes.Axes instance to which the heatmap\n",
    "                     is plotted. If not provided, use current axes or\n",
    "                     create a new one.\n",
    "        cbar_kw    : A dictionary with arguments to\n",
    "                     :meth:`matplotlib.Figure.colorbar`.\n",
    "        cbarlabel  : The label for the colorbar\n",
    "    All other arguments are directly passed on to the imshow call.\n",
    "    \"\"\"\n",
    "\n",
    "    if not ax:\n",
    "        ax = plt.gca()\n",
    "\n",
    "    # Plot the heatmap\n",
    "    im = ax.imshow(data, **kwargs)\n",
    "\n",
    "    # Create colorbar\n",
    "    divider = make_axes_locatable(ax)\n",
    "    cax = divider.append_axes(\"right\", size=\"1%\", pad=0.1)\n",
    "    cbar = ax.figure.colorbar(im, ax=ax, cax=cax, **cbar_kw)\n",
    "    #cbar.ax.set_yticklabels(['0', '', '', '',, '', '1'])\n",
    "    cbar.ax.set_ylabel(cbarlabel, rotation=0, labelpad=2, va=\"bottom\")\n",
    "\n",
    "    # We want to show all ticks...\n",
    "    ax.set_xticks(np.arange(data.shape[1]))\n",
    "    ax.set_yticks(np.arange(data.shape[0]))\n",
    "    # ... and label them with the respective list entries.\n",
    "    ax.set_xticklabels(col_labels)\n",
    "    ax.set_yticklabels(row_labels)\n",
    "\n",
    "    # Let the horizontal axes labeling appear on top.\n",
    "    ax.tick_params(top=False, bottom=True,\n",
    "                   labeltop=False, labelbottom=True)\n",
    "\n",
    "    # Rotate the tick labels and set their alignment.\n",
    "    plt.setp(ax.get_xticklabels(), rotation=30, ha=\"right\",\n",
    "             rotation_mode=\"anchor\")\n",
    "\n",
    "    # Turn spines off and create white grid.\n",
    "    for edge, spine in ax.spines.items():\n",
    "        spine.set_visible(False)\n",
    "\n",
    "    ax.set_xticks(np.arange(data.shape[1]+1)-.5, minor=True)\n",
    "    ax.set_yticks(np.arange(data.shape[0]+1)-.5, minor=True)\n",
    "    ax.grid(which=\"minor\", color=\"w\", linestyle='-', linewidth=3)\n",
    "    ax.tick_params(which=\"minor\", bottom=False, left=False)\n",
    "\n",
    "    return im, cbar\n"
   ]
  },
  {
   "cell_type": "code",
   "execution_count": null,
   "metadata": {
    "collapsed": false,
    "deletable": true,
    "editable": true
   },
   "outputs": [],
   "source": [
    "df_heatmap = pd.DataFrame(data={'model':['R', 'S', 'D']})\n",
    "df_heatmap.set_index('model', inplace=True)\n",
    "days = df_kpi['day'].unique().tolist()\n",
    "for day in days:\n",
    "    for model in df_heatmap.index.values.tolist():\n",
    "        df_heatmap.at[model, day] = df_kpi.loc[(df_kpi['model'] == model) & (df_kpi['day'] == day), 'kpi'].values[0]\n",
    "        \n",
    "fig, ax = plt.subplots(figsize=(12, 12), dpi= 100)\n",
    "im, cbar = heatmap(df_heatmap.values, ['Robust', 'Stochastic', 'Deterministic'], [\"day {}\".format(d) for d in df_kpi['day'].values], ax=ax,\n",
    "                   cmap=\"Spectral\", cbarlabel=\"\")\n",
    "\n",
    "fig.tight_layout()\n",
    "\n",
    "avg_sol_quality_gain = np.concatenate((df_heatmap.loc['R'] - df_heatmap.loc['S'], df_heatmap.loc['R'] - df_heatmap.loc['D'])).mean()\n",
    "print(\"Average Solution Quality Gain: {:.1f}%\".format(avg_sol_quality_gain * 100))"
   ]
  },
  {
   "cell_type": "markdown",
   "metadata": {
    "collapsed": true,
    "deletable": true,
    "editable": true
   },
   "source": [
    "### Author\n",
    "\n",
    "- __Gianmaria Leo__ is a Senior Operations Research Engineer and Data Scientist with Data Science Elite team (IBM Analytics).\n",
    "\n",
    "Copyright © IBM Corp. 2018. Released as licensed Sample Materials."
   ]
  }
 ],
 "metadata": {
  "kernelspec": {
   "display_name": "Python2.7 with DSX Spark 2.0.2",
   "language": "python",
   "name": "python2"
  },
  "language_info": {
   "codemirror_mode": {
    "name": "ipython",
    "version": 2
   },
   "file_extension": ".py",
   "mimetype": "text/x-python",
   "name": "python",
   "nbconvert_exporter": "python",
   "pygments_lexer": "ipython2",
   "version": "2.7.11"
  }
 },
 "nbformat": 4,
 "nbformat_minor": 2
}
