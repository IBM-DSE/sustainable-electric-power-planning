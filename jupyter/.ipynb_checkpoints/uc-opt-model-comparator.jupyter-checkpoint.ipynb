{
 "cells": [
  {
   "cell_type": "markdown",
   "metadata": {
    "deletable": true,
    "editable": true
   },
   "source": [
    "## A framework to compare different formulations over multiple instances with Decision Optimization for DSX\n",
    "\n",
    "This notebook exploits [`dd_scenario`](https://ibmdecisionoptimization.github.io/dd-scenario-api-doc/) APIs to solve different formulations of the Unit Commitment over multiple input instances of the problem. \n",
    "\n",
    "In particular, the scenarios of the DSX DO Model called *uc-models-comparison* (part of this project) are iteratively updated, in order to process results coming from different optimization runs. Such results are used to generate the charts available in the dashboard of the addressed DSX DO Model. Moreover, additional output data are collected and stored in a CSV file, which is consumed by the notebook *display-comparison-kpis* of this project. Finally, that notebook finalizes the model comparison by generating and displaying charts from the summary results.\n",
    "\n",
    "The following picture illustrates the procedure (loop) implemented in this notebook.\n",
    "\n",
    "<img src=\"../do_scenario_framework.png\" width=\"25%\">"
   ]
  },
  {
   "cell_type": "code",
   "execution_count": 1,
   "metadata": {
    "collapsed": false,
    "deletable": true,
    "editable": true
   },
   "outputs": [
    {
     "name": "stderr",
     "output_type": "stream",
     "text": [
      "/opt/conda/lib/python2.7/site-packages/requests/__init__.py:80: RequestsDependencyWarning: urllib3 (1.23) or chardet (3.0.3) doesn't match a supported version!\n",
      "  RequestsDependencyWarning)\n"
     ]
    },
    {
     "name": "stdout",
     "output_type": "stream",
     "text": [
      "Loading df_heatmap_comp\n",
      "Loading df_load\n",
      "Loading df_renewable_forecast\n",
      "Loading df_cost_comp\n",
      "Loading df_dashboard\n",
      "Loading df_ren_comp\n",
      "Loading df_renewable_forecast_aggr\n",
      "Loading df_renewable_units\n",
      "Loading df_renewable_units_conf\n",
      "Loading df_scenarios\n",
      "Loading df_scenarios_conf\n",
      "Loading df_system_config\n",
      "Loading df_thermal_units\n",
      "Loading df_thermal_units_conf\n"
     ]
    }
   ],
   "source": [
    "from dd_scenario import *\n",
    "\n",
    "import os, glob\n",
    "import pandas as pd\n",
    "from IPython.display import display\n",
    "\n",
    "### Intializing dd_scenario client\n",
    "client = Client()\n",
    "mb = client.get_model_builder(name=\"uc-models-comparison\")\n",
    "\n",
    "### Loading inputs\n",
    "opt_input_list = glob.glob(\"{}/datasets/df_*.csv\".format(os.environ['DSX_PROJECT_DIR']))\n",
    "input_dict = {}\n",
    "for opt_input in opt_input_list:\n",
    "    df = pd.read_csv(opt_input)\n",
    "    df_name = os.path.basename(opt_input).split('.')[0]\n",
    "    print(\"Loading {}\".format(df_name))\n",
    "    input_dict[df_name] = df\n"
   ]
  },
  {
   "cell_type": "code",
   "execution_count": 2,
   "metadata": {
    "collapsed": true,
    "deletable": true,
    "editable": true
   },
   "outputs": [],
   "source": [
    "### This function extracts an instance of the Unit Commitment by providing a target time horizon for the optimization problem \n",
    "\n",
    "from datetime import datetime, timedelta\n",
    "import collections\n",
    "\n",
    "DateTime = collections.namedtuple('DateTime', 'date time')\n",
    "\n",
    "def extract_df_by_period(df, start_datetime=DateTime('01/07/2017', '1'), n_days=7):\n",
    "    start_dt = datetime.strptime(\"{}_{}:59\".format(start_datetime.date, int(start_datetime.time) - 1), '%d/%m/%Y_%H:%M')\n",
    "    end_date = datetime.strptime(start_datetime.date, '%d/%m/%Y') + timedelta(days=(n_days - 1))\n",
    "    end_dt = datetime.strptime(\"{}_23:59\".format(end_date.date().strftime('%d/%m/%Y')), '%d/%m/%Y_%H:%M')\n",
    "    if 'date_obj' not in df.columns:\n",
    "        df['date_obj'] = df.apply(lambda x: datetime.strptime(\"{}_{}:59\".format(x.Date, x.Hour - 1), '%d/%m/%Y_%H:%M'), axis=1)\n",
    "    df_new = df.loc[(df['date_obj'] >= start_dt) & (df['date_obj'] <= end_dt)]\n",
    "    return df_new.drop('date_obj', axis=1)\n"
   ]
  },
  {
   "cell_type": "code",
   "execution_count": 3,
   "metadata": {
    "collapsed": false,
    "deletable": true,
    "editable": true
   },
   "outputs": [],
   "source": [
    "### The comparison takes place over 7 daily instances of the problem\n",
    "\n",
    "DateTime = collections.namedtuple('DateTime', 'date time')\n",
    "\n",
    "curr_dt = '14/06/2018'\n",
    "last_dt = '20/06/2018'\n",
    "\n",
    "uc_days = 1\n",
    "\n",
    "curr_dt_obj = datetime.strptime(curr_dt, '%d/%m/%Y')\n",
    "last_dt_obj = datetime.strptime(last_dt, '%d/%m/%Y')\n",
    "its = int((last_dt_obj.date() - curr_dt_obj.date()).days) + 1\n",
    "#its = 1"
   ]
  },
  {
   "cell_type": "code",
   "execution_count": 4,
   "metadata": {
    "collapsed": false,
    "deletable": true,
    "editable": true
   },
   "outputs": [
    {
     "name": "stdout",
     "output_type": "stream",
     "text": [
      "Solving Scen-D -- day 1\n",
      "[2018-10-02T10:57:38Z, INFO] *   680+  139                       2.32244e+07   2.32051e+07             0.08%\n",
      "[2018-10-02T10:57:39Z, INFO] *   680+  138                       2.32236e+07   2.32051e+07             0.08%\n",
      "[2018-10-02T10:57:39Z, INFO]     680   140   2.32175e+07    96   2.32236e+07   2.32051e+07    47304    0.08%\n",
      "[2018-10-02T10:57:40Z, INFO] *   780+  152                       2.32189e+07   2.32065e+07             0.05%\n",
      "[2018-10-02T10:57:40Z, INFO]     790   164   2.32153e+07   179   2.32189e+07   2.32065e+07    53679    0.05%\n",
      "[2018-10-02T10:57:43Z, INFO]     932   162   2.32153e+07   207   2.32189e+07   2.32141e+07    60380    0.02%\n",
      "[2018-10-02T10:57:46Z, INFO] Cover cuts applied:  91\n",
      "[2018-10-02T10:57:46Z, INFO] Flow cuts applied:  27\n",
      "[2018-10-02T10:57:46Z, INFO] Mixed integer rounding cuts applied:  73\n",
      "[2018-10-02T10:57:46Z, INFO] Zero-half cuts applied:  17\n",
      "[2018-10-02T10:57:46Z, INFO] Lift and project cuts applied:  1\n",
      "[2018-10-02T10:57:46Z, INFO] Gomory fractional cuts applied:  1\n",
      "[2018-10-02T10:57:46Z, INFO] \n",
      "[2018-10-02T10:57:46Z, INFO] Root node processing (before b&c):\n",
      "[2018-10-02T10:57:46Z, INFO]   Real time             =    1.43 sec. (843.00 ticks)\n",
      "[2018-10-02T10:57:46Z, INFO] Sequential b&c:\n",
      "[2018-10-02T10:57:46Z, INFO]   Real time             =   18.98 sec. (8964.02 ticks)\n",
      "[2018-10-02T10:57:46Z, INFO]                           ------------\n",
      "[2018-10-02T10:57:46Z, INFO] Total (root+branch&cut) =   20.41 sec. (9807.02 ticks)\n",
      "[2018-10-02T10:57:46Z, ERROR] /python_container/docloudcontroller.py:424: SettingWithCopyWarning: \n",
      "[2018-10-02T10:57:46Z, ERROR] A value is trying to be set on a copy of a slice from a DataFrame.\n",
      "[2018-10-02T10:57:46Z, ERROR] Try using .loc[row_indexer,col_indexer] = value instead\n",
      "[2018-10-02T10:57:46Z, ERROR] \n",
      "[2018-10-02T10:57:46Z, ERROR] See the caveats in the documentation: http://pandas.pydata.org/pandas-docs/stable/indexing.html#indexing-view-versus-copy\n",
      "[2018-10-02T10:57:46Z, ERROR]   inputChannel = InputChannel(sys.stdin)\n"
     ]
    },
    {
     "data": {
      "text/html": [
       "<div>\n",
       "<style>\n",
       "    .dataframe thead tr:only-child th {\n",
       "        text-align: right;\n",
       "    }\n",
       "\n",
       "    .dataframe thead th {\n",
       "        text-align: left;\n",
       "    }\n",
       "\n",
       "    .dataframe tbody tr th {\n",
       "        vertical-align: top;\n",
       "    }\n",
       "</style>\n",
       "<table border=\"1\" class=\"dataframe\">\n",
       "  <thead>\n",
       "    <tr style=\"text-align: right;\">\n",
       "      <th></th>\n",
       "      <th>value</th>\n",
       "    </tr>\n",
       "    <tr>\n",
       "      <th>kpi</th>\n",
       "      <th></th>\n",
       "    </tr>\n",
       "  </thead>\n",
       "  <tbody>\n",
       "    <tr>\n",
       "      <th>Total Variable Cost</th>\n",
       "      <td>23133470.0</td>\n",
       "    </tr>\n",
       "    <tr>\n",
       "      <th>Total Economic Cost</th>\n",
       "      <td>23192868.0</td>\n",
       "    </tr>\n",
       "  </tbody>\n",
       "</table>\n",
       "</div>"
      ],
      "text/plain": [
       "                          value\n",
       "kpi                            \n",
       "Total Variable Cost  23133470.0\n",
       "Total Economic Cost  23192868.0"
      ]
     },
     "metadata": {},
     "output_type": "display_data"
    },
    {
     "name": "stdout",
     "output_type": "stream",
     "text": [
      "Solving Scen-D -- day 2\n"
     ]
    },
    {
     "ename": "KeyboardInterrupt",
     "evalue": "",
     "output_type": "error",
     "traceback": [
      "\u001b[0;31m\u001b[0m",
      "\u001b[0;31mKeyboardInterrupt\u001b[0mTraceback (most recent call last)",
      "\u001b[0;32m<ipython-input-4-b5ef18d40988>\u001b[0m in \u001b[0;36m<module>\u001b[0;34m()\u001b[0m\n\u001b[1;32m     29\u001b[0m         \u001b[0msc\u001b[0m\u001b[0;34m.\u001b[0m\u001b[0madd_table_data\u001b[0m\u001b[0;34m(\u001b[0m\u001b[0;34m'config'\u001b[0m\u001b[0;34m,\u001b[0m \u001b[0mdf_config\u001b[0m\u001b[0;34m,\u001b[0m \u001b[0mcategory\u001b[0m\u001b[0;34m=\u001b[0m\u001b[0;34m'input'\u001b[0m\u001b[0;34m)\u001b[0m\u001b[0;34m\u001b[0m\u001b[0m\n\u001b[1;32m     30\u001b[0m \u001b[0;34m\u001b[0m\u001b[0m\n\u001b[0;32m---> 31\u001b[0;31m         \u001b[0msc\u001b[0m\u001b[0;34m.\u001b[0m\u001b[0msolve\u001b[0m\u001b[0;34m(\u001b[0m\u001b[0mdisplay_log\u001b[0m\u001b[0;34m=\u001b[0m\u001b[0mTrue\u001b[0m\u001b[0;34m)\u001b[0m\u001b[0;34m\u001b[0m\u001b[0m\n\u001b[0m\u001b[1;32m     32\u001b[0m         \u001b[0mdf_q_r_tot\u001b[0m \u001b[0;34m=\u001b[0m \u001b[0msc\u001b[0m\u001b[0;34m.\u001b[0m\u001b[0mget_table_data\u001b[0m\u001b[0;34m(\u001b[0m\u001b[0;34m'p_r_tot'\u001b[0m\u001b[0;34m)\u001b[0m\u001b[0;34m.\u001b[0m\u001b[0mcopy\u001b[0m\u001b[0;34m(\u001b[0m\u001b[0;34m)\u001b[0m\u001b[0;34m\u001b[0m\u001b[0m\n\u001b[1;32m     33\u001b[0m         \u001b[0mdf_q_r_tot\u001b[0m\u001b[0;34m[\u001b[0m\u001b[0;34m'day'\u001b[0m\u001b[0;34m]\u001b[0m \u001b[0;34m=\u001b[0m \u001b[0;34m\"{:0>2d}\"\u001b[0m\u001b[0;34m.\u001b[0m\u001b[0mformat\u001b[0m\u001b[0;34m(\u001b[0m\u001b[0mit\u001b[0m\u001b[0;34m)\u001b[0m\u001b[0;34m\u001b[0m\u001b[0m\n",
      "\u001b[0;32m/user-home/_global_/python-2.7/dd_scenario/container.py\u001b[0m in \u001b[0;36msolve\u001b[0;34m(self, display_log, log_lines, log_output, **kwargs)\u001b[0m\n\u001b[1;32m    252\u001b[0m             \u001b[0margs\u001b[0m\u001b[0;34m[\u001b[0m\u001b[0;34m'collectEngineLog'\u001b[0m\u001b[0;34m]\u001b[0m \u001b[0;34m=\u001b[0m \u001b[0mTrue\u001b[0m\u001b[0;34m\u001b[0m\u001b[0m\n\u001b[1;32m    253\u001b[0m         \u001b[0mself\u001b[0m\u001b[0;34m.\u001b[0m\u001b[0mclient\u001b[0m\u001b[0;34m.\u001b[0m\u001b[0msolve\u001b[0m\u001b[0;34m(\u001b[0m\u001b[0mself\u001b[0m\u001b[0;34m,\u001b[0m \u001b[0;34m**\u001b[0m\u001b[0margs\u001b[0m\u001b[0;34m)\u001b[0m\u001b[0;34m\u001b[0m\u001b[0m\n\u001b[0;32m--> 254\u001b[0;31m         \u001b[0mstatus\u001b[0m \u001b[0;34m=\u001b[0m \u001b[0mself\u001b[0m\u001b[0;34m.\u001b[0m\u001b[0mclient\u001b[0m\u001b[0;34m.\u001b[0m\u001b[0mwait_for_completion\u001b[0m\u001b[0;34m(\u001b[0m\u001b[0mself\u001b[0m\u001b[0;34m)\u001b[0m\u001b[0;34m\u001b[0m\u001b[0m\n\u001b[0m\u001b[1;32m    255\u001b[0m         \u001b[0;31m# job state\u001b[0m\u001b[0;34m\u001b[0m\u001b[0;34m\u001b[0m\u001b[0m\n\u001b[1;32m    256\u001b[0m         \u001b[0mstate\u001b[0m \u001b[0;34m=\u001b[0m \u001b[0mstatus\u001b[0m\u001b[0;34m[\u001b[0m\u001b[0;34m'state'\u001b[0m\u001b[0;34m]\u001b[0m\u001b[0;34m\u001b[0m\u001b[0m\n",
      "\u001b[0;32m/user-home/_global_/python-2.7/dd_scenario/client.py\u001b[0m in \u001b[0;36mwait_for_completion\u001b[0;34m(self, container)\u001b[0m\n\u001b[1;32m   1177\u001b[0m         \u001b[0ms\u001b[0m \u001b[0;34m=\u001b[0m \u001b[0mself\u001b[0m\u001b[0;34m.\u001b[0m\u001b[0mget_solve_status\u001b[0m\u001b[0;34m(\u001b[0m\u001b[0mcontainer\u001b[0m\u001b[0;34m)\u001b[0m\u001b[0;34m\u001b[0m\u001b[0m\n\u001b[1;32m   1178\u001b[0m         \u001b[0;32mwhile\u001b[0m \u001b[0ms\u001b[0m\u001b[0;34m.\u001b[0m\u001b[0mstate\u001b[0m \u001b[0;32mnot\u001b[0m \u001b[0;32min\u001b[0m \u001b[0;34m{\u001b[0m\u001b[0;34m'FAILED'\u001b[0m\u001b[0;34m,\u001b[0m \u001b[0;34m'TERMINATED'\u001b[0m\u001b[0;34m}\u001b[0m\u001b[0;34m:\u001b[0m\u001b[0;34m\u001b[0m\u001b[0m\n\u001b[0;32m-> 1179\u001b[0;31m             \u001b[0mtime\u001b[0m\u001b[0;34m.\u001b[0m\u001b[0msleep\u001b[0m\u001b[0;34m(\u001b[0m\u001b[0;36m1\u001b[0m\u001b[0;34m)\u001b[0m\u001b[0;34m\u001b[0m\u001b[0m\n\u001b[0m\u001b[1;32m   1180\u001b[0m             \u001b[0ms\u001b[0m \u001b[0;34m=\u001b[0m \u001b[0mself\u001b[0m\u001b[0;34m.\u001b[0m\u001b[0mget_solve_status\u001b[0m\u001b[0;34m(\u001b[0m\u001b[0mcontainer\u001b[0m\u001b[0;34m)\u001b[0m\u001b[0;34m\u001b[0m\u001b[0m\n\u001b[1;32m   1181\u001b[0m         \u001b[0;32mreturn\u001b[0m \u001b[0ms\u001b[0m\u001b[0;34m\u001b[0m\u001b[0m\n",
      "\u001b[0;31mKeyboardInterrupt\u001b[0m: "
     ]
    }
   ],
   "source": [
    "### This procedure updates and solves iteratively the three formulations (D - R - S) of the Unit Commitment for the selected instances. \n",
    "### A DO Model scenario is created for each formulation of the problem, and it is updated when each instance is solved.\n",
    "### The overall optimization results are collected in a dataframe that is updated at the end of each optimization run.\n",
    "\n",
    "table_list = input_dict.keys()\n",
    "df_final = pd.DataFrame()\n",
    "\n",
    "for model in ['D', 'R', 'S']:\n",
    "    scen_name = \"Scen-{}\".format(model)\n",
    "    config = {'parameter': ['model'], 'value': ['D']} if model == 'D' else \\\n",
    "                ({'parameter': ['model', 'criteria'], 'value': ['S', 'RiskFactor']} if model == 'S' else \\\n",
    "                 {'parameter': ['model'], 'value': ['R']})\n",
    "    df_config = pd.DataFrame.from_dict(config)\n",
    "    sc = mb.get_scenario(name=scen_name)\n",
    "    if sc is None:\n",
    "        sc = mb.get_scenario(name='Scenario').copy(name=scen_name)\n",
    "    curr_dt = '14/06/2018'\n",
    "    curr_dt_obj = datetime.strptime(curr_dt, '%d/%m/%Y')\n",
    "    for it in xrange(1, (its + 1)):\n",
    "        print(\"Solving {} -- day {}\".format(scen_name, it))\n",
    "        for table_name in table_list:\n",
    "            if sc.get_asset(table_name):\n",
    "                sc.delete_asset(table_name)\n",
    "            df = input_dict[table_name]\n",
    "            if table_name in ['df_thermal_units_conf', 'df_renewable_units_conf', 'df_load', 'df_scenarios', 'df_renewable_forecast', 'df_renewable_forecast_aggr']:\n",
    "                sc.add_table_data(table_name, extract_df_by_period(df, DateTime(curr_dt, '1'), uc_days), category='input')\n",
    "            else:\n",
    "                sc.add_table_data(table_name, df, category='input')\n",
    "        \n",
    "        \n",
    "        sc.add_table_data('config', df_config, category='input')\n",
    "        \n",
    "        sc.solve(display_log=True)\n",
    "        df_q_r_tot = sc.get_table_data('p_r_tot').copy()\n",
    "        df_q_r_tot['day'] = \"{:0>2d}\".format(it)\n",
    "        df_q_r_tot['model'] = model\n",
    "        df_p_tot_by_period = sc.get_table_data('thermal_prod').groupby('period').sum().copy()\n",
    "        df_p_tot_by_period.reset_index(inplace=True)\n",
    "        df_p_tot_by_period.rename(columns={'value':'thermal_prod'}, inplace=True)\n",
    "        df_p_inde_tot_by_period = sc.get_table_data('renewable_prod').groupby('period').sum().copy()\n",
    "        df_p_inde_tot_by_period.reset_index(inplace=True)\n",
    "        df_p_inde_tot_by_period.rename(columns={'value':'renewable_prod'}, inplace=True)\n",
    "        df_p_tot_by_period = df_p_tot_by_period.merge(df_p_inde_tot_by_period, on='period', how='inner')\n",
    "        df_q_r_tot = df_q_r_tot.merge(df_p_tot_by_period, on='period', how='inner')\n",
    "        \n",
    "        df_cost = sc.get_table_data('cost_kpis_high').copy()\n",
    "        df_cost.set_index('kpi', inplace=True)\n",
    "        display(df_cost)\n",
    "        tot_cost = df_cost.at['Total Economic Cost', 'value']\n",
    "        df_q_r_tot['cost'] = tot_cost\n",
    "\n",
    "        if df_final.empty:\n",
    "            df_final = df_q_r_tot\n",
    "        else:\n",
    "            df_final = pd.concat([df_final, df_q_r_tot], ignore_index=True)\n",
    "\n",
    "        curr_dt_obj = curr_dt_obj + timedelta(days=uc_days)\n",
    "        curr_dt = curr_dt_obj.date().strftime('%d/%m/%Y')\n",
    "\n",
    "sc = mb.get_scenario(name=\"Scenario\")\n",
    "\n",
    "sc.add_table_data('scenario_comp', df_final, category='input')\n",
    "df_final.to_csv(\"{}/datasets/df_dashboard.csv\".format(os.environ['DSX_PROJECT_DIR']), index=False)"
   ]
  },
  {
   "cell_type": "markdown",
   "metadata": {
    "deletable": true,
    "editable": true
   },
   "source": [
    "### Author\n",
    "\n",
    "- __Gianmaria Leo__ is a Senior Operations Research Engineer and Data Scientist with Data Science Elite team (IBM Analytics).\n",
    "\n",
    "Copyright © IBM Corp. 2018. Released as licensed Sample Materials."
   ]
  }
 ],
 "metadata": {
  "kernelspec": {
   "display_name": "Python2.7 with DSX Spark 2.0.2",
   "language": "python",
   "name": "python2"
  },
  "language_info": {
   "codemirror_mode": {
    "name": "ipython",
    "version": 2
   },
   "file_extension": ".py",
   "mimetype": "text/x-python",
   "name": "python",
   "nbconvert_exporter": "python",
   "pygments_lexer": "ipython2",
   "version": "2.7.11"
  }
 },
 "nbformat": 4,
 "nbformat_minor": 2
}
